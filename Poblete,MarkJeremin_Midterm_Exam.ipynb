{
  "nbformat": 4,
  "nbformat_minor": 0,
  "metadata": {
    "colab": {
      "provenance": [],
      "authorship_tag": "ABX9TyOK6NdVpWfaWZUO8z3h1qE/",
      "include_colab_link": true
    },
    "kernelspec": {
      "name": "python3",
      "display_name": "Python 3"
    },
    "language_info": {
      "name": "python"
    }
  },
  "cells": [
    {
      "cell_type": "markdown",
      "metadata": {
        "id": "view-in-github",
        "colab_type": "text"
      },
      "source": [
        "<a href=\"https://colab.research.google.com/github/markjereminpoblete/CPEN65-2/blob/main/Poblete%2CMarkJeremin_Midterm_Exam.ipynb\" target=\"_parent\"><img src=\"https://colab.research.google.com/assets/colab-badge.svg\" alt=\"Open In Colab\"/></a>"
      ]
    },
    {
      "cell_type": "code",
      "execution_count": 12,
      "metadata": {
        "colab": {
          "base_uri": "https://localhost:8080/"
        },
        "id": "AyFjp0Z2XZbY",
        "outputId": "4d2eac48-1db0-43c1-e784-79de98a0cb82"
      },
      "outputs": [
        {
          "output_type": "stream",
          "name": "stdout",
          "text": [
            "Array:  [1, 2, 3, 4, 5, 6, 7, 8, 9, 10]\n",
            "Sum of Array:  55\n"
          ]
        }
      ],
      "source": [
        "#Write a Python program to create an array of 10 integers and display the array items. Access individual elements through indexes and compute for the sum.\n",
        "\n",
        "numbers = [1, 2, 3, 4, 5, 6, 7, 8 ,9 , 10]\n",
        "print(\"Array: \", numbers)\n",
        "\n",
        "def sum():\n",
        "  sum = 0\n",
        "  for i in numbers:\n",
        "    sum = sum + i\n",
        "  print(\"Sum of Array: \", sum)\n",
        "sum()\n"
      ]
    },
    {
      "cell_type": "code",
      "source": [
        "#Write a Python program to append a new item to the end of the array. Original array: numbers = [1, 2, 3, 4, 5, 6, 7, 8, 9, 10]\n",
        "\n",
        "numbers = [1, 2, 3, 4, 5, 6, 7, 8, 9, 10]\n",
        "print(\"Original Array:\", numbers)\n",
        "numbers.append(11)\n",
        "print(\"Array Result:  \", numbers)"
      ],
      "metadata": {
        "colab": {
          "base_uri": "https://localhost:8080/"
        },
        "id": "pocJXbj-Ztpp",
        "outputId": "c0025856-b0be-4c26-db9e-f95fe3375e1b"
      },
      "execution_count": 16,
      "outputs": [
        {
          "output_type": "stream",
          "name": "stdout",
          "text": [
            "Original Array: [1, 2, 3, 4, 5, 6, 7, 8, 9, 10]\n",
            "Array Result:   [1, 2, 3, 4, 5, 6, 7, 8, 9, 10, 11]\n"
          ]
        }
      ]
    },
    {
      "cell_type": "code",
      "source": [
        "#Write a Python program to insert a new item before the second element in an existing array. Original array: numbers = [1, 2, 3, 4, 5, 6, 7, 8, 9, 10]\n",
        "\n",
        "numbers = [1, 2, 3, 4, 5, 6, 7, 8, 9, 10]\n",
        "print(\"Original Array:\", numbers)\n",
        "numbers.insert(1,1.5)\n",
        "print(\"Array Result:  \", numbers)"
      ],
      "metadata": {
        "colab": {
          "base_uri": "https://localhost:8080/"
        },
        "id": "uhDunov3aSkR",
        "outputId": "6bd32efe-0d18-4311-e2bd-4e3140be23fb"
      },
      "execution_count": 18,
      "outputs": [
        {
          "output_type": "stream",
          "name": "stdout",
          "text": [
            "Original Array: [1, 2, 3, 4, 5, 6, 7, 8, 9, 10]\n",
            "Array Result:   [1, 1.5, 2, 3, 4, 5, 6, 7, 8, 9, 10]\n"
          ]
        }
      ]
    },
    {
      "cell_type": "code",
      "source": [
        "#Write a Python program to reverse the order of the items in the array. Original array: numbers = [5, 4, 3, 2, 1]\n",
        "\n",
        "numbers = [5, 4, 3, 2, 1]\n",
        "print(\"Original Array:\", numbers)\n",
        "numbers.reverse()\n",
        "print(\"Reversed Array:\", numbers)"
      ],
      "metadata": {
        "colab": {
          "base_uri": "https://localhost:8080/"
        },
        "id": "bS85FJWxa5mR",
        "outputId": "0c7fce52-da10-4958-81cb-4f9146c1d120"
      },
      "execution_count": 20,
      "outputs": [
        {
          "output_type": "stream",
          "name": "stdout",
          "text": [
            "Original Array: [5, 4, 3, 2, 1]\n",
            "Reversed Array: [1, 2, 3, 4, 5]\n"
          ]
        }
      ]
    },
    {
      "cell_type": "code",
      "source": [
        "#Write a Python program to get the length of the array. Original array: numbers = [5, 4, 3, 2, 1]\n",
        "\n",
        "numbers = [5, 4, 3, 2, 1]\n",
        "print(\"Array:\", numbers)\n",
        "lenArray = len(numbers)\n",
        "print(\"Length:\", lenArray)"
      ],
      "metadata": {
        "colab": {
          "base_uri": "https://localhost:8080/"
        },
        "id": "cMp-pb8BbWp4",
        "outputId": "5bdbb674-b9d8-4ff4-f95f-7f116a1c38bf"
      },
      "execution_count": 23,
      "outputs": [
        {
          "output_type": "stream",
          "name": "stdout",
          "text": [
            "Array: [5, 4, 3, 2, 1]\n",
            "Length: 5\n"
          ]
        }
      ]
    }
  ]
}