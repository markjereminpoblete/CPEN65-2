{
  "nbformat": 4,
  "nbformat_minor": 0,
  "metadata": {
    "colab": {
      "provenance": [],
      "authorship_tag": "ABX9TyOSJ1ujxlL7ALRElbQs0RV4",
      "include_colab_link": true
    },
    "kernelspec": {
      "name": "python3",
      "display_name": "Python 3"
    },
    "language_info": {
      "name": "python"
    }
  },
  "cells": [
    {
      "cell_type": "markdown",
      "metadata": {
        "id": "view-in-github",
        "colab_type": "text"
      },
      "source": [
        "<a href=\"https://colab.research.google.com/github/markjereminpoblete/CPEN65-2/blob/main/Exercise(Array).ipynb\" target=\"_parent\"><img src=\"https://colab.research.google.com/assets/colab-badge.svg\" alt=\"Open In Colab\"/></a>"
      ]
    },
    {
      "cell_type": "code",
      "execution_count": 18,
      "metadata": {
        "colab": {
          "base_uri": "https://localhost:8080/"
        },
        "id": "EFExCzgT01QT",
        "outputId": "23a580fe-080f-42d4-aaf9-db88db427376"
      },
      "outputs": [
        {
          "output_type": "stream",
          "name": "stdout",
          "text": [
            "['M', 'a', 'r', 'k', 'J', 'e', 'r', 'e', 'm', 'i', 'n', 'P', 'o', 'b', 'l', 'e', 't', 'e']\n",
            "-------------------------------------------------------------------------------------------\n",
            "['e', 't', 'e', 'l', 'b', 'o', 'P', 'n', 'i', 'm', 'e', 'r', 'e', 'J', 'k', 'r', 'a', 'M']\n"
          ]
        }
      ],
      "source": [
        "fullname = []\n",
        "\n",
        "fullname.append(\"M\")\n",
        "fullname.append(\"a\")\n",
        "fullname.append(\"r\")\n",
        "fullname.append(\"k\")\n",
        "\n",
        "fullname.append(\"J\")\n",
        "fullname.append(\"e\")\n",
        "fullname.append(\"r\")\n",
        "fullname.append(\"e\")\n",
        "fullname.append(\"m\")\n",
        "fullname.append(\"i\")\n",
        "fullname.append(\"n\")\n",
        "\n",
        "fullname.append(\"P\")\n",
        "fullname.append(\"o\")\n",
        "fullname.append(\"b\")\n",
        "fullname.append(\"l\")\n",
        "fullname.append(\"e\")\n",
        "fullname.append(\"t\")\n",
        "fullname.append(\"e\")\n",
        "print(fullname)\n",
        "print(\"-------------------------------------------------------------------------------------------\")\n",
        "\n",
        "fullname.reverse()\n",
        "print(fullname)\n"
      ]
    }
  ]
}