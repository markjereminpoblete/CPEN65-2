{
  "nbformat": 4,
  "nbformat_minor": 0,
  "metadata": {
    "colab": {
      "provenance": [],
      "authorship_tag": "ABX9TyN75WCFBd39VZGYbW2z85x+",
      "include_colab_link": true
    },
    "kernelspec": {
      "name": "python3",
      "display_name": "Python 3"
    },
    "language_info": {
      "name": "python"
    }
  },
  "cells": [
    {
      "cell_type": "markdown",
      "metadata": {
        "id": "view-in-github",
        "colab_type": "text"
      },
      "source": [
        "<a href=\"https://colab.research.google.com/github/markjereminpoblete/CPEN65-2/blob/main/Stacks_and_Queues.ipynb\" target=\"_parent\"><img src=\"https://colab.research.google.com/assets/colab-badge.svg\" alt=\"Open In Colab\"/></a>"
      ]
    },
    {
      "cell_type": "code",
      "execution_count": 16,
      "metadata": {
        "colab": {
          "base_uri": "https://localhost:8080/",
          "height": 102
        },
        "id": "FQVVLAidKBm1",
        "outputId": "f2e1b38b-f970-466f-a947-630a7ace8f9b"
      },
      "outputs": [
        {
          "output_type": "stream",
          "name": "stdout",
          "text": [
            "[1, 2, 3]\n",
            "[1, 2]\n",
            "[1]\n",
            "[]\n"
          ]
        },
        {
          "output_type": "execute_result",
          "data": {
            "text/plain": [
              "'Stack is empty.'"
            ],
            "application/vnd.google.colaboratory.intrinsic+json": {
              "type": "string"
            }
          },
          "metadata": {},
          "execution_count": 16
        }
      ],
      "source": [
        "class Stack:\n",
        "  def __init__(self):\n",
        "    self.stack = []\n",
        "  \n",
        "  def push(self, dataval):\n",
        "    if dataval not in self.stack:\n",
        "      return self.stack.append(dataval)\n",
        "    else:\n",
        "      return False\n",
        "  \n",
        "  def pop(self):\n",
        "    if len(self.stack) <= 0:\n",
        "      return \"Stack is empty.\"\n",
        "    else:\n",
        "      return self.stack.pop()\n",
        "\n",
        "Stack_A = Stack()\n",
        "Stack_A.push(1)\n",
        "Stack_A.push(2)\n",
        "Stack_A.push(3)\n",
        "print(Stack_A.stack)\n",
        "\n",
        "Stack_A.pop()\n",
        "print(Stack_A.stack)\n",
        "Stack_A.pop()\n",
        "print(Stack_A.stack)\n",
        "Stack_A.pop()\n",
        "print(Stack_A.stack)\n",
        "Stack_A.pop()\n"
      ]
    },
    {
      "cell_type": "code",
      "source": [
        "class Queue:\n",
        "  def __init__(self):\n",
        "    self.queue = []\n",
        "  \n",
        "  def push(self, dataval):\n",
        "    if dataval not in self.queue:\n",
        "      return self.queue.append(dataval)\n",
        "    else:\n",
        "      return False\n",
        "  \n",
        "  def pop(self):\n",
        "    if len(self.queue) <= 0:\n",
        "      return \"Queue is empty.\"\n",
        "    else:\n",
        "      self.queue.reverse()\n",
        "      self.queue.pop()\n",
        "      return self.queue.reverse()\n",
        "\n",
        "Queue_A = Queue()\n",
        "Queue_A.push(1)\n",
        "Queue_A.push(2)\n",
        "Queue_A.push(3)\n",
        "print(Queue_A.queue)\n",
        "\n",
        "Queue_A.pop()\n",
        "print(Queue_A.queue)\n",
        "Queue_A.pop()\n",
        "print(Queue_A.queue)\n",
        "Queue_A.pop()\n",
        "print(Queue_A.queue)\n",
        "Queue_A.pop()\n"
      ],
      "metadata": {
        "colab": {
          "base_uri": "https://localhost:8080/",
          "height": 102
        },
        "id": "BwIR3_-iOL8F",
        "outputId": "65e9be24-56dd-4c52-fece-ff6d7689a7b7"
      },
      "execution_count": 31,
      "outputs": [
        {
          "output_type": "stream",
          "name": "stdout",
          "text": [
            "[1, 2, 3]\n",
            "[2, 3]\n",
            "[3]\n",
            "[]\n"
          ]
        },
        {
          "output_type": "execute_result",
          "data": {
            "text/plain": [
              "'Queue is empty.'"
            ],
            "application/vnd.google.colaboratory.intrinsic+json": {
              "type": "string"
            }
          },
          "metadata": {},
          "execution_count": 31
        }
      ]
    }
  ]
}