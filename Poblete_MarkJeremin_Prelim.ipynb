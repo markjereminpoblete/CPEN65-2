{
  "nbformat": 4,
  "nbformat_minor": 0,
  "metadata": {
    "colab": {
      "provenance": [],
      "authorship_tag": "ABX9TyOsLNo4GB/U0Y9jlo8wIaxr",
      "include_colab_link": true
    },
    "kernelspec": {
      "name": "python3",
      "display_name": "Python 3"
    },
    "language_info": {
      "name": "python"
    }
  },
  "cells": [
    {
      "cell_type": "markdown",
      "metadata": {
        "id": "view-in-github",
        "colab_type": "text"
      },
      "source": [
        "<a href=\"https://colab.research.google.com/github/markjereminpoblete/CPEN65-2/blob/main/Poblete_MarkJeremin_Prelim.ipynb\" target=\"_parent\"><img src=\"https://colab.research.google.com/assets/colab-badge.svg\" alt=\"Open In Colab\"/></a>"
      ]
    },
    {
      "cell_type": "code",
      "source": [
        "class Rectangle:\n",
        "  def __init__(self, length, width):\n",
        "    self.length = length\n",
        "    self.width = width\n",
        "  def Area(self):\n",
        "    print(self.length*self.width)\n",
        "\n",
        "rect = Rectangle(7, 3)\n",
        "rect.Area()"
      ],
      "metadata": {
        "colab": {
          "base_uri": "https://localhost:8080/"
        },
        "id": "GQfCuNkx5v6V",
        "outputId": "0696802e-100a-408b-98d2-dcc5a3e27b9a"
      },
      "execution_count": 2,
      "outputs": [
        {
          "output_type": "stream",
          "name": "stdout",
          "text": [
            "21\n"
          ]
        }
      ]
    },
    {
      "cell_type": "code",
      "source": [
        "class Person:\n",
        "  def __init__(self, name, age):\n",
        "    self.name = name\n",
        "    self.age = age\n",
        "\n",
        "person = Person(\"Ana\", 39)\n",
        "print(person.name)\n",
        "print(person.age)\n"
      ],
      "metadata": {
        "colab": {
          "base_uri": "https://localhost:8080/"
        },
        "id": "QCHUcZgX7BG3",
        "outputId": "682bd050-8f21-4b04-cd1e-9b281a4f995a"
      },
      "execution_count": 3,
      "outputs": [
        {
          "output_type": "stream",
          "name": "stdout",
          "text": [
            "Ana\n",
            "39\n"
          ]
        }
      ]
    }
  ]
}